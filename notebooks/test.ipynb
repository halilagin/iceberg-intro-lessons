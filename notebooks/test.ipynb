{
 "cells": [
  {
   "cell_type": "code",
   "execution_count": 1,
   "id": "26db65c9",
   "metadata": {},
   "outputs": [],
   "source": [
    "#%pip install --quiet PyYAML"
   ]
  },
  {
   "cell_type": "code",
   "execution_count": 2,
   "id": "29a793b0",
   "metadata": {},
   "outputs": [],
   "source": [
    "minio_keys_file=\"../secrets/minio.keys\""
   ]
  },
  {
   "cell_type": "code",
   "execution_count": 3,
   "id": "9e907640",
   "metadata": {},
   "outputs": [
    {
     "name": "stdout",
     "output_type": "stream",
     "text": [
      "access_key: ehRjBCNcqOqcW6U2bJlV\n",
      "secret_key: 0tiCzra8npr4K4snnBQBpoXUI0fA1qvP96XnE9oF\n"
     ]
    }
   ],
   "source": [
    "! cat ../secrets/minio.keys"
   ]
  },
  {
   "cell_type": "code",
   "execution_count": 4,
   "id": "d814f919",
   "metadata": {},
   "outputs": [],
   "source": [
    "import yaml\n",
    "minio_conf=None\n",
    "with open(minio_keys_file) as f:\n",
    "    minio_conf = yaml.safe_load(f)\n",
    "#minio_conf[\"access_key\"], minio_conf[\"secret_key\"], "
   ]
  },
  {
   "cell_type": "code",
   "execution_count": 5,
   "id": "6baa59c0",
   "metadata": {},
   "outputs": [],
   "source": [
    "## DEFINE SENSITIVE VARIABLES\n",
    "NESSIE_URI = \"http://nessie:19120/api/v1\"\n",
    "MINIO_ACCESS_KEY = minio_conf[\"access_key\"]\n",
    "MINIO_SECRET_KEY = minio_conf[\"secret_key\"]\n",
    "MINIO_ENDPOINT_URL = \"http://minio:9000\""
   ]
  },
  {
   "cell_type": "code",
   "execution_count": 6,
   "id": "587c4a15",
   "metadata": {},
   "outputs": [
    {
     "data": {
      "text/plain": [
       "('ehRjBCNcqOqcW6U2bJlV', '0tiCzra8npr4K4snnBQBpoXUI0fA1qvP96XnE9oF')"
      ]
     },
     "execution_count": 6,
     "metadata": {},
     "output_type": "execute_result"
    }
   ],
   "source": [
    "MINIO_ACCESS_KEY,MINIO_SECRET_KEY"
   ]
  },
  {
   "cell_type": "code",
   "execution_count": 14,
   "id": "b47e2cfa",
   "metadata": {},
   "outputs": [
    {
     "name": "stdout",
     "output_type": "stream",
     "text": [
      "Spark Running\n",
      "++\n",
      "||\n",
      "++\n",
      "++\n",
      "\n",
      "+------------+------------------+---------+--------+------+------+-------------------+-------------------+--------+------------------+-----------+--------------------+---+------+------+-----------+------------+--------+----+\n",
      "|competitorId|    competitorName|firstName|lastName|status|gender|countryOfOriginCode|countryOfOriginName|regionId|        regionName|affiliateId|       affiliateName|age|height|weight|overallRank|overallScore|genderId|year|\n",
      "+------------+------------------+---------+--------+------+------+-------------------+-------------------+--------+------------------+-----------+--------------------+---+------+------+-----------+------------+--------+----+\n",
      "|     2455538|    Siobhan Tenner|  Siobhan|  Tenner|   ACT|     F|                 ZA|       South Africa|      30|            Africa|      11447|CrossFit Richards...| 25|150 cm| 63 kg|      64862|      256308|       2|2023|\n",
      "|     2423044|      Saioa Palomo|    Saioa|  Palomo|   ACT|     F|                 ES|              Spain|      29|            Europe|      24403|     CrossFit Huargo| 27|  null|  null|      64863|      256326|       2|2023|\n",
      "|     2246836|        Leigh Wong|    Leigh|    Wong|   ACT|     F|                 US|      United States|      34|North America West|       5054|        RCF CrossFit| 54|  null|  null|      64864|      256327|       6|2023|\n",
      "|     1778720|   Kaitlyn Gilland|  Kaitlyn| Gilland|   ACT|     F|                 US|      United States|      35|North America East|       2234|     CrossFit Acadia| 34|  null|  null|      64865|      256329|       2|2023|\n",
      "|     2091299|  Ginette Cottreau|  Ginette|Cottreau|   ACT|     F|                 CA|             Canada|      35|North America East|      30406|Strong Tides Cros...| 48| 62 in|135 lb|      64866|      256344|       4|2023|\n",
      "|       98988|Elisabeth Svensson|Elisabeth|Svensson|   ACT|     F|                 SE|             Sweden|      29|            Europe|       4144|     CrossFit Mjölby| 43|167 cm| 64 kg|      64867|      256347|      13|2023|\n",
      "|     2428815|        Dina Sadek|     Dina|   Sadek|   ACT|     F|                 AU|          Australia|      32|           Oceania|      17255|CrossFit 168 King...| 37|168 cm| 63 kg|      64868|      256352|      19|2023|\n",
      "|     1556373|    Hannah Metheny|   Hannah| Metheny|   ACT|     F|                 US|      United States|      34|North America West|      25784|  CrossFit Ridgeback| 30| 70 in|158 lb|      64869|      256353|       2|2023|\n",
      "|     1578717|      JaNae Obbink|    JaNae|  Obbink|   ACT|     F|                 US|      United States|      34|North America West|       4151|     CrossFit Philia| 44| 66 in|140 lb|      64870|      256357|      13|2023|\n",
      "|     1664013|   Michele Clayton|  Michele| Clayton|   ACT|     F|                 US|      United States|      34|North America West|        998|      Elite CrossFit| 46| 59 in|118 lb|      64870|      256357|       4|2023|\n",
      "+------------+------------------+---------+--------+------+------+-------------------+-------------------+--------+------------------+-----------+--------------------+---+------+------+-----------+------------+--------+----+\n",
      "\n",
      "+------+\n",
      "| Total|\n",
      "+------+\n",
      "|280003|\n",
      "+------+\n",
      "\n",
      "+------+\n",
      "| Total|\n",
      "+------+\n",
      "|280003|\n",
      "+------+\n",
      "\n",
      "+------+\n",
      "| Total|\n",
      "+------+\n",
      "|280003|\n",
      "+------+\n",
      "\n",
      "+------+\n",
      "| Total|\n",
      "+------+\n",
      "|280003|\n",
      "+------+\n",
      "\n"
     ]
    }
   ],
   "source": [
    "import pyspark\n",
    "from pyspark.sql import SparkSession\n",
    "import os\n",
    "\n",
    "\n",
    "\n",
    "\n",
    "\n",
    "conf = (\n",
    "        pyspark.SparkConf()\n",
    "        .setAppName('app_name')\n",
    "        .set(\n",
    "                'spark.jars.packages',\n",
    "                'org.apache.iceberg:iceberg-spark-runtime-3.3_2.12:1.3.1,'\n",
    "                'org.projectnessie.nessie-integrations:nessie-spark-extensions-3.3_2.12:0.67.0,'\n",
    "                'software.amazon.awssdk:bundle:2.17.178,'\n",
    "                'software.amazon.awssdk:url-connection-client:2.17.178'\n",
    "        ).set(\n",
    "                'spark.sql.extensions',\n",
    "                'org.apache.iceberg.spark.extensions.IcebergSparkSessionExtensions,'\n",
    "                'org.projectnessie.spark.extensions.NessieSparkSessionExtensions'\n",
    "        ).set('spark.sql.catalog.nessie', 'org.apache.iceberg.spark.SparkCatalog')\n",
    "        .set('spark.sql.catalog.nessie.uri', NESSIE_URI)\n",
    "        .set('spark.sql.catalog.nessie.ref', 'main')\n",
    "        .set('spark.sql.catalog.nessie.authentication.type', 'NONE')\n",
    "        .set('spark.sql.catalog.nessie.catalog-impl', 'org.apache.iceberg.nessie.NessieCatalog')\n",
    "        .set('spark.sql.catalog.nessie.warehouse', 's3a://warehouse')\n",
    "        .set('spark.sql.catalog.nessie.s3.endpoint', MINIO_ENDPOINT_URL)\n",
    "        .set('spark.sql.catalog.nessie.io-impl', 'org.apache.iceberg.aws.s3.S3FileIO')\n",
    "        .set('spark.hadoop.fs.s3a.access.key', MINIO_ACCESS_KEY)\n",
    "        .set('spark.hadoop.fs.s3a.secret.key', MINIO_SECRET_KEY)\n",
    "        .set('spark.sql.catalog.nessie.s3.access-key-id', MINIO_ACCESS_KEY)\n",
    "        .set('spark.sql.catalog.nessie.s3.secret-access-key', MINIO_SECRET_KEY)\n",
    "        .set('spark.sql.catalog.nessie.s3.path-style-access', 'true')\n",
    "        )\n",
    "\n",
    "\n",
    "# Start Spark Session\n",
    "spark = SparkSession.builder.config(conf=conf).getOrCreate()\n",
    "print(\"Spark Running\")\n",
    "\n",
    "csv_df = spark.read.format(\"csv\").option(\"header\", \"true\").load(\"../datasets/df_open_2023.csv\")\n",
    "csv_df.createOrReplaceTempView(\"csv_open_2023\")\n",
    "spark.sql(\"CREATE TABLE IF NOT EXISTS nessie.df_open_2023_lesson2 USING iceberg AS SELECT * FROM csv_open_2023\").show()\n",
    "spark.sql(\"SELECT * FROM nessie.df_open_2023_lesson2 limit 10\").show()\n",
    "spark.sql(\"SELECT Count(*) as Total FROM nessie.df_open_2023_lesson2\").show()\n",
    "spark.sql(\"CREATE BRANCH IF NOT EXISTS lesson2 IN nessie\")\n",
    "spark.sql(\"USE REFERENCE lesson2 IN nessie\")\n",
    "spark.sql(\"DELETE FROM nessie.df_open_2023_lesson2 WHERE countryOfOriginCode = 'FR'\")\n",
    "spark.sql(\"SELECT Count(*) as Total FROM nessie.df_open_2023_lesson2\").show()\n",
    "spark.sql(\"USE REFERENCE main IN nessie\")\n",
    "spark.sql(\"SELECT Count(*) as Total FROM nessie.df_open_2023_lesson2\").show()\n",
    "spark.sql(\"MERGE BRANCH lesson2 INTO main IN nessie\")\n",
    "spark.sql(\"SELECT Count(*) as Total FROM nessie.df_open_2023_lesson2\").show()\n",
    "\n"
   ]
  },
  {
   "cell_type": "code",
   "execution_count": 13,
   "id": "1a70557d",
   "metadata": {},
   "outputs": [
    {
     "name": "stdout",
     "output_type": "stream",
     "text": [
      "competitorId,competitorName,firstName,lastName,status,gender,countryOfOriginCode,countryOfOriginName,regionId,regionName,affiliateId,affiliateName,age,height,weight,overallRank,overallScore,genderId,year\n",
      "469656,Jeffrey Adler,Jeffrey,Adler,ACT,M,CA,Canada,35,North America East,18059,CrossFit Wonderland,29,69 in,197 lb,1,107,1,2023\n",
      "300638,Tola Morakinyo,Tola,Morakinyo,ACT,M,US,United States,35,North America East,19593,CrossFit East Nashville,27,72 in,212 lb,2,219,1,2023\n",
      "676693,Colten Mertens,Colten,Mertens,ACT,M,US,United States,34,North America West,1324,CrossFit Kilo,25,64 in,180 lb,3,367,1,2023\n"
     ]
    }
   ],
   "source": [
    "!head -4 ../datasets/df_open_2023.csv\n",
    "\n",
    "\n"
   ]
  },
  {
   "cell_type": "code",
   "execution_count": null,
   "id": "81e1cddd",
   "metadata": {},
   "outputs": [],
   "source": []
  },
  {
   "cell_type": "code",
   "execution_count": null,
   "id": "27a3b83d",
   "metadata": {},
   "outputs": [],
   "source": []
  },
  {
   "cell_type": "code",
   "execution_count": null,
   "id": "db572317",
   "metadata": {},
   "outputs": [],
   "source": []
  },
  {
   "cell_type": "code",
   "execution_count": null,
   "id": "1b4253df",
   "metadata": {},
   "outputs": [],
   "source": []
  },
  {
   "cell_type": "code",
   "execution_count": null,
   "id": "823d9b24",
   "metadata": {},
   "outputs": [],
   "source": []
  },
  {
   "cell_type": "code",
   "execution_count": null,
   "id": "a6ae3f18",
   "metadata": {},
   "outputs": [],
   "source": []
  }
 ],
 "metadata": {
  "kernelspec": {
   "display_name": "Python 3 (ipykernel)",
   "language": "python",
   "name": "python3"
  },
  "language_info": {
   "codemirror_mode": {
    "name": "ipython",
    "version": 3
   },
   "file_extension": ".py",
   "mimetype": "text/x-python",
   "name": "python",
   "nbconvert_exporter": "python",
   "pygments_lexer": "ipython3",
   "version": "3.11.9"
  }
 },
 "nbformat": 4,
 "nbformat_minor": 5
}
