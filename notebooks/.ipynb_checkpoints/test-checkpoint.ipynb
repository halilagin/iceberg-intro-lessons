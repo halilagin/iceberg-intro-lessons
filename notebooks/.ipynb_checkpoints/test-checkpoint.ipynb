{
 "cells": [
  {
   "cell_type": "code",
   "execution_count": 7,
   "id": "26db65c9",
   "metadata": {},
   "outputs": [],
   "source": [
    "!pip install --quiet PyYAML"
   ]
  },
  {
   "cell_type": "code",
   "execution_count": 10,
   "id": "03e0d7d1",
   "metadata": {},
   "outputs": [],
   "source": [
    "minio_keys_file=\"../secrets/minio.keys\""
   ]
  },
  {
   "cell_type": "code",
   "execution_count": 13,
   "id": "9a9da4b6",
   "metadata": {},
   "outputs": [
    {
     "data": {
      "text/plain": [
       "('YHuell8yiZjpMX9elxDJ', '6yQqeoOgycMbcLAstq8spqB6u0dubkLIDFQpXsZ0')"
      ]
     },
     "execution_count": 13,
     "metadata": {},
     "output_type": "execute_result"
    }
   ],
   "source": [
    "import yaml\n",
    "minio_conf=None\n",
    "with open(minio_keys_file) as f:\n",
    "    minio_conf = yaml.safe_load(f)\n",
    "minio_conf[\"access_key\"], minio_conf[\"secret_key\"], "
   ]
  },
  {
   "cell_type": "code",
   "execution_count": null,
   "id": "55a8b4f1",
   "metadata": {},
   "outputs": [],
   "source": []
  },
  {
   "cell_type": "code",
   "execution_count": null,
   "id": "f87e475b",
   "metadata": {},
   "outputs": [],
   "source": []
  },
  {
   "cell_type": "code",
   "execution_count": null,
   "id": "e694885a",
   "metadata": {},
   "outputs": [],
   "source": []
  },
  {
   "cell_type": "code",
   "execution_count": null,
   "id": "8e9cae14",
   "metadata": {},
   "outputs": [],
   "source": []
  },
  {
   "cell_type": "code",
   "execution_count": null,
   "id": "739c8ede",
   "metadata": {},
   "outputs": [],
   "source": []
  },
  {
   "cell_type": "code",
   "execution_count": null,
   "id": "ce6f27f9",
   "metadata": {},
   "outputs": [],
   "source": []
  },
  {
   "cell_type": "code",
   "execution_count": null,
   "id": "89915c9b",
   "metadata": {},
   "outputs": [],
   "source": []
  },
  {
   "cell_type": "code",
   "execution_count": null,
   "id": "08003056",
   "metadata": {},
   "outputs": [],
   "source": []
  },
  {
   "cell_type": "code",
   "execution_count": null,
   "id": "4160e38f",
   "metadata": {},
   "outputs": [],
   "source": []
  },
  {
   "cell_type": "code",
   "execution_count": null,
   "id": "485237bd",
   "metadata": {},
   "outputs": [],
   "source": []
  }
 ],
 "metadata": {
  "kernelspec": {
   "display_name": "Python 3 (ipykernel)",
   "language": "python",
   "name": "python3"
  },
  "language_info": {
   "codemirror_mode": {
    "name": "ipython",
    "version": 3
   },
   "file_extension": ".py",
   "mimetype": "text/x-python",
   "name": "python",
   "nbconvert_exporter": "python",
   "pygments_lexer": "ipython3",
   "version": "3.10.6"
  }
 },
 "nbformat": 4,
 "nbformat_minor": 5
}
